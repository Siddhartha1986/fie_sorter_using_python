{
 "cells": [
  {
   "cell_type": "code",
   "execution_count": 9,
   "id": "92654c76",
   "metadata": {},
   "outputs": [],
   "source": [
    "import os, shutil\n",
    "path = r\"C:/Users/sidd_/Documents/AUTOMATIC_FILE_SORTER/\"\n",
    "file_names = os.listdir(path)\n",
    "\n",
    "folder_names = [\"xlsx files\", \"txt files\", \"jpg files\"]\n",
    "\n",
    "for folder in folder_names:\n",
    "    if not os.path.exists(path +folder):\n",
    "        os.makedirs(path+folder)\n",
    "\n",
    "for file in file_names:\n",
    "    if \".xlsx\" in file and not os.path.exists(path+\"xlsx files/\"+file):\n",
    "        shutil.move(path + file, path +\"xlsx files/\")\n",
    "    elif \".jpg\" in file and not os.path.exists(path+\"jpg files/\"+file):\n",
    "        shutil.move(path +file, path + \"jpg files/\")\n",
    "    elif \".txt\" in file and not os.path.exists(path + \"txt files/\"+file):\n",
    "        shutil.move(path + file, path +\"txt files/\")\n",
    "        "
   ]
  },
  {
   "cell_type": "code",
   "execution_count": null,
   "id": "190ca7d9",
   "metadata": {},
   "outputs": [],
   "source": []
  }
 ],
 "metadata": {
  "kernelspec": {
   "display_name": "Python 3 (ipykernel)",
   "language": "python",
   "name": "python3"
  },
  "language_info": {
   "codemirror_mode": {
    "name": "ipython",
    "version": 3
   },
   "file_extension": ".py",
   "mimetype": "text/x-python",
   "name": "python",
   "nbconvert_exporter": "python",
   "pygments_lexer": "ipython3",
   "version": "3.10.11"
  }
 },
 "nbformat": 4,
 "nbformat_minor": 5
}
